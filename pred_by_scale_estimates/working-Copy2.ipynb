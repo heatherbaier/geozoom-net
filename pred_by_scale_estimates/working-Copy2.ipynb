{
 "cells": [
  {
   "cell_type": "code",
   "execution_count": 10,
   "id": "03cde414",
   "metadata": {},
   "outputs": [],
   "source": [
    "import os\n",
    "os.environ[\"CUDA_DEVICE_ORDER\"] = \"PCI_BUS_ID\" \n",
    "os.environ[\"CUDA_VISIBLE_DEVICES\"] = \"3\"\n",
    "\n",
    "\n",
    "from torchvision.utils import make_grid, save_image\n",
    "import torchvision.models as models\n",
    "import torch.nn.functional as F\n",
    "import matplotlib.pyplot as plt\n",
    "from copy import deepcopy\n",
    "import numpy as np\n",
    "import random\n",
    "import torch\n",
    "import json\n",
    "import PIL\n",
    "\n",
    "\n",
    "from handler import geozoom_handler\n",
    "# from helpers import *\n",
    "from fc_net import *\n",
    "from utils import *\n",
    "from sa import *"
   ]
  },
  {
   "cell_type": "code",
   "execution_count": 11,
   "id": "d589832b",
   "metadata": {},
   "outputs": [],
   "source": [
    "# random.sample(range(0, len(image_names)), 5)"
   ]
  },
  {
   "cell_type": "code",
   "execution_count": 12,
   "id": "2aaae94b",
   "metadata": {},
   "outputs": [
    {
     "name": "stdout",
     "output_type": "stream",
     "text": [
      "500 municipalities.\n"
     ]
    }
   ],
   "source": [
    "image_names = get_png_names(\"../data/MEX/\")[0:500]\n",
    "# image_names = get_png_names(\"../pooling/data/MEX2/\")\n",
    "# image_indices = random.sample(range(0, len(image_names)), 1000)\n",
    "# image_names = [image_names[i] for i in range(len(image_names)) if i in image_indices]\n",
    "y = get_migrants(\"../../pooling/data/migration_data.json\" , image_names)"
   ]
  },
  {
   "cell_type": "code",
   "execution_count": 13,
   "id": "86aaf6be",
   "metadata": {},
   "outputs": [],
   "source": [
    "device = torch.device(\"cuda\" if torch.cuda.is_available() else \"cpu\")\n",
    "resnet18 = models.resnet18().to(device)\n",
    "attn_model = attnNet(resnet = resnet18).to(device)\n",
    "lr = .001\n",
    "criterion = torch.nn.L1Loss(reduction = 'mean')\n",
    "attn_optimizer = torch.optim.Adam(attn_model.parameters(), lr = lr)\n",
    "\n",
    "butler = geozoom_handler(attn_model, \n",
    "                         device, \n",
    "                         criterion, \n",
    "                         attn_optimizer, \n",
    "                         num_thresholds = 4,\n",
    "                         reduction_percent = .75,\n",
    "                         convergence_dims = (224, 224),\n",
    "                         change_bounds = (-50, 50),\n",
    "                         perc_change_thresh = .75, \n",
    "                         plot = False, \n",
    "                         v = False)"
   ]
  },
  {
   "cell_type": "code",
   "execution_count": 14,
   "id": "9f266d5c",
   "metadata": {},
   "outputs": [
    {
     "data": {
      "text/plain": [
       "SelfAttention(\n",
       "  (query_conv): Conv2d(256, 32, kernel_size=(1, 1), stride=(1, 1))\n",
       "  (key_conv): Conv2d(256, 32, kernel_size=(1, 1), stride=(1, 1))\n",
       "  (value_conv): Conv2d(256, 256, kernel_size=(1, 1), stride=(1, 1))\n",
       "  (softmax): Softmax(dim=-1)\n",
       ")"
      ]
     },
     "execution_count": 14,
     "metadata": {},
     "output_type": "execute_result"
    }
   ],
   "source": [
    "attn_model.sa"
   ]
  },
  {
   "cell_type": "code",
   "execution_count": 15,
   "id": "7b92ff88",
   "metadata": {},
   "outputs": [],
   "source": [
    "BATCH_SIZE = 1\n",
    "SPLIT = .60\n",
    "\n",
    "train_dl, val_dl = butler.prep_attn_data(image_names, y, SPLIT, BATCH_SIZE)"
   ]
  },
  {
   "cell_type": "code",
   "execution_count": 7,
   "id": "77bd0987",
   "metadata": {},
   "outputs": [
    {
     "name": "stdout",
     "output_type": "stream",
     "text": [
      "Num training:  15\n",
      "Num validation:  10\n"
     ]
    }
   ],
   "source": [
    "print(\"Num training: \", len(train_dl))\n",
    "print(\"Num validation: \", len(val_dl))"
   ]
  },
  {
   "cell_type": "code",
   "execution_count": 8,
   "id": "4b44d41d",
   "metadata": {},
   "outputs": [],
   "source": [
    "# for i,o in train_dl:\n",
    "#     print(i)\n",
    "# #     print(load_inputs(i[0]).shape, o)"
   ]
  },
  {
   "cell_type": "code",
   "execution_count": null,
   "id": "3bfc99e9",
   "metadata": {},
   "outputs": [
    {
     "name": "stderr",
     "output_type": "stream",
     "text": [
      "/opt/conda/envs/rapids/lib/python3.7/site-packages/torch/nn/functional.py:3328: UserWarning: nn.functional.upsample is deprecated. Use nn.functional.interpolate instead.\n",
      "  warnings.warn(\"nn.functional.upsample is deprecated. Use nn.functional.interpolate instead.\")\n"
     ]
    },
    {
     "name": "stdout",
     "output_type": "stream",
     "text": [
      "Epoch:  0\n",
      "  Training Loss:  2728.3689577738446\n",
      "  Validation Loss:  4769.813626098633\n",
      "\n",
      "\n",
      "Epoch:  1\n",
      "  Training Loss:  2471.105067138672\n",
      "  Validation Loss:  4601.63484161377\n",
      "\n",
      "\n",
      "Epoch:  2\n",
      "  Training Loss:  2353.54746866862\n",
      "  Validation Loss:  4556.031277160644\n",
      "\n",
      "\n",
      "Epoch:  3\n",
      "  Training Loss:  2321.5247540283203\n",
      "  Validation Loss:  4555.6955490112305\n",
      "\n",
      "\n",
      "Epoch:  4\n",
      "  Training Loss:  2311.3223319498697\n",
      "  Validation Loss:  4576.666403503418\n",
      "Percentage above threshold:  0.6166666666666667\n",
      "\n",
      "\n",
      "Epoch:  5\n",
      "  Training Loss:  2307.3946081542967\n",
      "  Validation Loss:  4528.04497467041\n",
      "Percentage above threshold:  0.6366666666666667\n",
      "\n",
      "\n",
      "Epoch:  6\n",
      "  Training Loss:  2301.699991455078\n",
      "  Validation Loss:  4490.824416809082\n",
      "Percentage above threshold:  0.65\n",
      "\n",
      "\n",
      "Epoch:  7\n",
      "  Training Loss:  2292.913971761068\n",
      "  Validation Loss:  4561.835305786133\n",
      "Percentage above threshold:  0.6233333333333333\n",
      "\n",
      "\n",
      "Epoch:  8\n",
      "  Training Loss:  2301.3270544433594\n",
      "  Validation Loss:  4705.168775634766\n",
      "Percentage above threshold:  0.7033333333333334\n",
      "\n",
      "\n",
      "Epoch:  9\n",
      "  Training Loss:  2300.0393290201823\n",
      "  Validation Loss:  4755.864669494629\n",
      "Percentage above threshold:  0.76\n",
      "  Moving to threshold:  2\n",
      "\n",
      "\n",
      "Epoch:  10\n",
      "  Training Loss:  2301.910437825521\n",
      "  Validation Loss:  4491.054015808106\n",
      "\n",
      "\n",
      "Epoch:  11\n",
      "  Training Loss:  2296.256356608073\n",
      "  Validation Loss:  4478.137550354004\n",
      "\n",
      "\n",
      "Epoch:  12\n",
      "  Training Loss:  2295.2234822591145\n",
      "  Validation Loss:  4740.3949325561525\n",
      "\n",
      "\n",
      "Epoch:  13\n",
      "  Training Loss:  2288.250262858073\n",
      "  Validation Loss:  4682.000495605469\n",
      "Percentage above threshold:  0.69\n",
      "\n",
      "\n",
      "Epoch:  14\n",
      "  Training Loss:  2283.3798193359376\n",
      "  Validation Loss:  4673.351044921875\n",
      "Percentage above threshold:  0.31333333333333335\n",
      "\n",
      "\n",
      "Epoch:  15\n",
      "  Training Loss:  2278.6985127766925\n",
      "  Validation Loss:  4525.65498413086\n",
      "Percentage above threshold:  0.32\n",
      "\n",
      "\n",
      "Epoch:  16\n",
      "  Training Loss:  2274.227867431641\n",
      "  Validation Loss:  4838.482949829102\n",
      "Percentage above threshold:  0.67\n",
      "\n",
      "\n",
      "Epoch:  17\n",
      "  Training Loss:  2266.7657275390625\n",
      "  Validation Loss:  4476.544424438476\n",
      "Percentage above threshold:  0.5966666666666667\n",
      "\n",
      "\n",
      "Epoch:  18\n",
      "  Training Loss:  2269.11098429362\n",
      "  Validation Loss:  4450.793443603516\n",
      "Percentage above threshold:  0.5433333333333333\n",
      "\n",
      "\n",
      "Epoch:  19\n",
      "  Training Loss:  2257.461170857747\n",
      "  Validation Loss:  4809.0866027832035\n",
      "Percentage above threshold:  0.5966666666666667\n",
      "\n",
      "\n",
      "Epoch:  20\n",
      "  Training Loss:  2249.2305755615234\n",
      "  Validation Loss:  4868.028826293946\n",
      "Percentage above threshold:  0.6\n",
      "\n",
      "\n",
      "Epoch:  21\n",
      "  Training Loss:  2246.1357287597657\n",
      "  Validation Loss:  4527.721630859375\n",
      "Percentage above threshold:  0.6\n",
      "\n",
      "\n",
      "Epoch:  22\n",
      "  Training Loss:  2241.790495198568\n",
      "  Validation Loss:  5534.503361816406\n",
      "Percentage above threshold:  0.6\n",
      "\n",
      "\n",
      "Epoch:  23\n",
      "  Training Loss:  2227.5343400065103\n",
      "  Validation Loss:  4549.049122924805\n",
      "Percentage above threshold:  0.5733333333333334\n",
      "\n",
      "\n",
      "Epoch:  24\n",
      "  Training Loss:  2225.4408284505207\n",
      "  Validation Loss:  5452.03178100586\n",
      "Percentage above threshold:  0.5466666666666666\n",
      "\n",
      "\n",
      "Epoch:  25\n",
      "  Training Loss:  2208.550447998047\n",
      "  Validation Loss:  4925.305440673828\n",
      "Percentage above threshold:  0.57\n",
      "\n",
      "\n",
      "Epoch:  26\n",
      "  Training Loss:  2193.945759887695\n",
      "  Validation Loss:  4508.173109130859\n",
      "Percentage above threshold:  0.6366666666666667\n",
      "\n",
      "\n"
     ]
    }
   ],
   "source": [
    "butler.train_attn_model(train_dl, val_dl)"
   ]
  },
  {
   "cell_type": "code",
   "execution_count": 14,
   "id": "d9d7a8da",
   "metadata": {},
   "outputs": [
    {
     "name": "stdout",
     "output_type": "stream",
     "text": [
      "Random Forest MAE:  1455.3926666666669\n"
     ]
    }
   ],
   "source": [
    "butler.train_fc_model(train_dl, val_dl, outside_estimator = 'rf')"
   ]
  },
  {
   "cell_type": "code",
   "execution_count": 15,
   "id": "32289304",
   "metadata": {},
   "outputs": [
    {
     "data": {
      "text/plain": [
       "['../data/MEX/484001008/pngs/484001008_2010_all_box484001008_MAY.png',\n",
       " '../data/MEX/484004004/pngs/484004004_2010_all_box484004004_MAY.png',\n",
       " '../data/MEX/484004001/pngs/484004001_2010_all_box484004001_MAY.png',\n",
       " '../data/MEX/484005010/pngs/484005010_2010_all_box484005010_MAY.png',\n",
       " '../data/MEX/484001005/pngs/484001005_2010_all_box484001005_MAY.png',\n",
       " '../data/MEX/484001007/pngs/484001007_2010_all_box484001007_MAY.png',\n",
       " '../data/MEX/484001006/pngs/484001006_2010_all_box484001006_MAY.png',\n",
       " '../data/MEX/484001001/pngs/484001001_2010_all_box484001001_MAY.png',\n",
       " '../data/MEX/484004005/pngs/484004005_2010_all_box484004005_MAY.png',\n",
       " '../data/MEX/484005001/pngs/484005001_2010_all_box484005001_MAY.png',\n",
       " '../data/MEX/484005004/pngs/484005004_2010_all_box484005004_MAY.png',\n",
       " '../data/MEX/484005008/pngs/484005008_2010_all_box484005008_MAY.png',\n",
       " '../data/MEX/484001002/pngs/484001002_2010_all_box484001002_MAY.png',\n",
       " '../data/MEX/484004006/pngs/484004006_2010_all_box484004006_MAY.png',\n",
       " '../data/MEX/484001004/pngs/484001004_2010_all_box484001004_MAY.png',\n",
       " '../data/MEX/484005013/pngs/484005013_2010_all_box484005013_MAY.png',\n",
       " '../data/MEX/484001003/pngs/484001003_2010_all_box484001003_MAY.png',\n",
       " '../data/MEX/484005003/pngs/484005003_2010_all_box484005003_MAY.png',\n",
       " '../data/MEX/484005018/pngs/484005018_2010_all_box484005018_MAY.png',\n",
       " '../data/MEX/484005019/pngs/484005019_2010_all_box484005019_MAY.png',\n",
       " '../data/MEX/484005016/pngs/484005016_2010_all_box484005016_MAY.png',\n",
       " '../data/MEX/484005015/pngs/484005015_2010_all_box484005015_MAY.png',\n",
       " '../data/MEX/484005014/pngs/484005014_2010_all_box484005014_MAY.png',\n",
       " '../data/MEX/484005017/pngs/484005017_2010_all_box484005017_MAY.png',\n",
       " '../data/MEX/484005021/pngs/484005021_2010_all_box484005021_MAY.png',\n",
       " '../data/MEX/484005022/pngs/484005022_2010_all_box484005022_MAY.png',\n",
       " '../data/MEX/484005025/pngs/484005025_2010_all_box484005025_MAY.png',\n",
       " '../data/MEX/484005028/pngs/484005028_2010_all_box484005028_MAY.png',\n",
       " '../data/MEX/484005029/pngs/484005029_2010_all_box484005029_MAY.png',\n",
       " '../data/MEX/484005032/pngs/484005032_2010_all_box484005032_MAY.png',\n",
       " '../data/MEX/484006002/pngs/484006002_2010_all_box484006002_MAY.png',\n",
       " '../data/MEX/484006003/pngs/484006003_2010_all_box484006003_MAY.png',\n",
       " '../data/MEX/484006004/pngs/484006004_2010_all_box484006004_MAY.png',\n",
       " '../data/MEX/484006005/pngs/484006005_2010_all_box484006005_MAY.png',\n",
       " '../data/MEX/484006006/pngs/484006006_2010_all_box484006006_MAY.png',\n",
       " '../data/MEX/484006007/pngs/484006007_2010_all_box484006007_MAY.png',\n",
       " '../data/MEX/484007001/pngs/484007001_2010_all_box484007001_MAY.png',\n",
       " '../data/MEX/484006009/pngs/484006009_2010_all_box484006009_MAY.png',\n",
       " '../data/MEX/484007002/pngs/484007002_2010_all_box484007002_MAY.png',\n",
       " '../data/MEX/484007003/pngs/484007003_2010_all_box484007003_MAY.png',\n",
       " '../data/MEX/484007004/pngs/484007004_2010_all_box484007004_MAY.png',\n",
       " '../data/MEX/484007006/pngs/484007006_2010_all_box484007006_MAY.png',\n",
       " '../data/MEX/484007007/pngs/484007007_2010_all_box484007007_MAY.png',\n",
       " '../data/MEX/484007008/pngs/484007008_2010_all_box484007008_MAY.png',\n",
       " '../data/MEX/484007010/pngs/484007010_2010_all_box484007010_MAY.png',\n",
       " '../data/MEX/484007011/pngs/484007011_2010_all_box484007011_MAY.png',\n",
       " '../data/MEX/484007014/pngs/484007014_2010_all_box484007014_MAY.png',\n",
       " '../data/MEX/484007016/pngs/484007016_2010_all_box484007016_MAY.png',\n",
       " '../data/MEX/484007015/pngs/484007015_2010_all_box484007015_MAY.png',\n",
       " '../data/MEX/484007019/pngs/484007019_2010_all_box484007019_MAY.png',\n",
       " '../data/MEX/484007020/pngs/484007020_2010_all_box484007020_MAY.png',\n",
       " '../data/MEX/484007022/pngs/484007022_2010_all_box484007022_MAY.png',\n",
       " '../data/MEX/484007023/pngs/484007023_2010_all_box484007023_MAY.png',\n",
       " '../data/MEX/484007024/pngs/484007024_2010_all_box484007024_MAY.png',\n",
       " '../data/MEX/484007026/pngs/484007026_2010_all_box484007026_MAY.png',\n",
       " '../data/MEX/484007027/pngs/484007027_2010_all_box484007027_MAY.png',\n",
       " '../data/MEX/484007028/pngs/484007028_2010_all_box484007028_MAY.png',\n",
       " '../data/MEX/484007030/pngs/484007030_2010_all_box484007030_MAY.png',\n",
       " '../data/MEX/484007031/pngs/484007031_2010_all_box484007031_MAY.png',\n",
       " '../data/MEX/484007032/pngs/484007032_2010_all_box484007032_MAY.png',\n",
       " '../data/MEX/484007034/pngs/484007034_2010_all_box484007034_MAY.png',\n",
       " '../data/MEX/484007036/pngs/484007036_2010_all_box484007036_MAY.png',\n",
       " '../data/MEX/484007037/pngs/484007037_2010_all_box484007037_MAY.png',\n",
       " '../data/MEX/484007038/pngs/484007038_2010_all_box484007038_MAY.png',\n",
       " '../data/MEX/484007039/pngs/484007039_2010_all_box484007039_MAY.png',\n",
       " '../data/MEX/484007040/pngs/484007040_2010_all_box484007040_MAY.png',\n",
       " '../data/MEX/484007041/pngs/484007041_2010_all_box484007041_MAY.png',\n",
       " '../data/MEX/484007044/pngs/484007044_2010_all_box484007044_MAY.png',\n",
       " '../data/MEX/484007047/pngs/484007047_2010_all_box484007047_MAY.png',\n",
       " '../data/MEX/484007049/pngs/484007049_2010_all_box484007049_MAY.png',\n",
       " '../data/MEX/484007050/pngs/484007050_2010_all_box484007050_MAY.png',\n",
       " '../data/MEX/484007051/pngs/484007051_2010_all_box484007051_MAY.png',\n",
       " '../data/MEX/484007053/pngs/484007053_2010_all_box484007053_MAY.png',\n",
       " '../data/MEX/484007056/pngs/484007056_2010_all_box484007056_MAY.png',\n",
       " '../data/MEX/484007058/pngs/484007058_2010_all_box484007058_MAY.png',\n",
       " '../data/MEX/484007057/pngs/484007057_2010_all_box484007057_MAY.png',\n",
       " '../data/MEX/484007064/pngs/484007064_2010_all_box484007064_MAY.png',\n",
       " '../data/MEX/484007066/pngs/484007066_2010_all_box484007066_MAY.png',\n",
       " '../data/MEX/484007069/pngs/484007069_2010_all_box484007069_MAY.png',\n",
       " '../data/MEX/484007071/pngs/484007071_2010_all_box484007071_MAY.png',\n",
       " '../data/MEX/484007070/pngs/484007070_2010_all_box484007070_MAY.png',\n",
       " '../data/MEX/484007075/pngs/484007075_2010_all_box484007075_MAY.png',\n",
       " '../data/MEX/484007076/pngs/484007076_2010_all_box484007076_MAY.png',\n",
       " '../data/MEX/484007077/pngs/484007077_2010_all_box484007077_MAY.png',\n",
       " '../data/MEX/484007078/pngs/484007078_2010_all_box484007078_MAY.png',\n",
       " '../data/MEX/484007080/pngs/484007080_2010_all_box484007080_MAY.png',\n",
       " '../data/MEX/484007081/pngs/484007081_2010_all_box484007081_MAY.png',\n",
       " '../data/MEX/484007082/pngs/484007082_2010_all_box484007082_MAY.png',\n",
       " '../data/MEX/484007083/pngs/484007083_2010_all_box484007083_MAY.png',\n",
       " '../data/MEX/484007089/pngs/484007089_2010_all_box484007089_MAY.png',\n",
       " '../data/MEX/484007094/pngs/484007094_2010_all_box484007094_MAY.png',\n",
       " '../data/MEX/484007093/pngs/484007093_2010_all_box484007093_MAY.png',\n",
       " '../data/MEX/484007095/pngs/484007095_2010_all_box484007095_MAY.png',\n",
       " '../data/MEX/484007098/pngs/484007098_2010_all_box484007098_MAY.png',\n",
       " '../data/MEX/484007097/pngs/484007097_2010_all_box484007097_MAY.png',\n",
       " '../data/MEX/484007099/pngs/484007099_2010_all_box484007099_MAY.png',\n",
       " '../data/MEX/484007102/pngs/484007102_2010_all_box484007102_MAY.png',\n",
       " '../data/MEX/484007103/pngs/484007103_2010_all_box484007103_MAY.png',\n",
       " '../data/MEX/484007104/pngs/484007104_2010_all_box484007104_MAY.png',\n",
       " '../data/MEX/484007105/pngs/484007105_2010_all_box484007105_MAY.png',\n",
       " '../data/MEX/484007106/pngs/484007106_2010_all_box484007106_MAY.png',\n",
       " '../data/MEX/484007108/pngs/484007108_2010_all_box484007108_MAY.png',\n",
       " '../data/MEX/484007109/pngs/484007109_2010_all_box484007109_MAY.png',\n",
       " '../data/MEX/484007110/pngs/484007110_2010_all_box484007110_MAY.png',\n",
       " '../data/MEX/484008004/pngs/484008004_2010_all_box484008004_MAY.png',\n",
       " '../data/MEX/484008006/pngs/484008006_2010_all_box484008006_MAY.png',\n",
       " '../data/MEX/484008008/pngs/484008008_2010_all_box484008008_MAY.png',\n",
       " '../data/MEX/484008015/pngs/484008015_2010_all_box484008015_MAY.png',\n",
       " '../data/MEX/484008013/pngs/484008013_2010_all_box484008013_MAY.png',\n",
       " '../data/MEX/484008017/pngs/484008017_2010_all_box484008017_MAY.png',\n",
       " '../data/MEX/484008019/pngs/484008019_2010_all_box484008019_MAY.png',\n",
       " '../data/MEX/484008020/pngs/484008020_2010_all_box484008020_MAY.png',\n",
       " '../data/MEX/484008021/pngs/484008021_2010_all_box484008021_MAY.png',\n",
       " '../data/MEX/484008022/pngs/484008022_2010_all_box484008022_MAY.png',\n",
       " '../data/MEX/484008023/pngs/484008023_2010_all_box484008023_MAY.png',\n",
       " '../data/MEX/484008024/pngs/484008024_2010_all_box484008024_MAY.png',\n",
       " '../data/MEX/484008025/pngs/484008025_2010_all_box484008025_MAY.png',\n",
       " '../data/MEX/484008028/pngs/484008028_2010_all_box484008028_MAY.png',\n",
       " '../data/MEX/484008030/pngs/484008030_2010_all_box484008030_MAY.png',\n",
       " '../data/MEX/484008031/pngs/484008031_2010_all_box484008031_MAY.png',\n",
       " '../data/MEX/484008037/pngs/484008037_2010_all_box484008037_MAY.png',\n",
       " '../data/MEX/484008039/pngs/484008039_2010_all_box484008039_MAY.png',\n",
       " '../data/MEX/484008041/pngs/484008041_2010_all_box484008041_MAY.png',\n",
       " '../data/MEX/484008042/pngs/484008042_2010_all_box484008042_MAY.png',\n",
       " '../data/MEX/484008043/pngs/484008043_2010_all_box484008043_MAY.png',\n",
       " '../data/MEX/484008047/pngs/484008047_2010_all_box484008047_MAY.png',\n",
       " '../data/MEX/484008051/pngs/484008051_2010_all_box484008051_MAY.png',\n",
       " '../data/MEX/484008054/pngs/484008054_2010_all_box484008054_MAY.png',\n",
       " '../data/MEX/484008055/pngs/484008055_2010_all_box484008055_MAY.png',\n",
       " '../data/MEX/484008056/pngs/484008056_2010_all_box484008056_MAY.png',\n",
       " '../data/MEX/484008057/pngs/484008057_2010_all_box484008057_MAY.png',\n",
       " '../data/MEX/484008058/pngs/484008058_2010_all_box484008058_MAY.png',\n",
       " '../data/MEX/484008062/pngs/484008062_2010_all_box484008062_MAY.png',\n",
       " '../data/MEX/484008065/pngs/484008065_2010_all_box484008065_MAY.png',\n",
       " '../data/MEX/484009001/pngs/484009001_2010_all_box484009001_MAY.png',\n",
       " '../data/MEX/484009002/pngs/484009002_2010_all_box484009002_MAY.png',\n",
       " '../data/MEX/484009003/pngs/484009003_2010_all_box484009003_MAY.png',\n",
       " '../data/MEX/484009004/pngs/484009004_2010_all_box484009004_MAY.png',\n",
       " '../data/MEX/484009005/pngs/484009005_2010_all_box484009005_MAY.png',\n",
       " '../data/MEX/484009006/pngs/484009006_2010_all_box484009006_MAY.png',\n",
       " '../data/MEX/484010002/pngs/484010002_2010_all_box484010002_MAY.png',\n",
       " '../data/MEX/484010003/pngs/484010003_2010_all_box484010003_MAY.png',\n",
       " '../data/MEX/484010007/pngs/484010007_2010_all_box484010007_MAY.png',\n",
       " '../data/MEX/484010008/pngs/484010008_2010_all_box484010008_MAY.png',\n",
       " '../data/MEX/484010012/pngs/484010012_2010_all_box484010012_MAY.png',\n",
       " '../data/MEX/484010015/pngs/484010015_2010_all_box484010015_MAY.png',\n",
       " '../data/MEX/484010016/pngs/484010016_2010_all_box484010016_MAY.png',\n",
       " '../data/MEX/484010019/pngs/484010019_2010_all_box484010019_MAY.png',\n",
       " '../data/MEX/484010020/pngs/484010020_2010_all_box484010020_MAY.png',\n",
       " '../data/MEX/484010021/pngs/484010021_2010_all_box484010021_MAY.png']"
      ]
     },
     "execution_count": 15,
     "metadata": {},
     "output_type": "execute_result"
    }
   ],
   "source": [
    "image_names"
   ]
  },
  {
   "cell_type": "code",
   "execution_count": 19,
   "id": "e382b661",
   "metadata": {},
   "outputs": [
    {
     "data": {
      "text/plain": [
       "<Figure size 2160x2160 with 0 Axes>"
      ]
     },
     "metadata": {},
     "output_type": "display_data"
    },
    {
     "data": {
      "text/plain": [
       "<Figure size 2160x2160 with 0 Axes>"
      ]
     },
     "metadata": {},
     "output_type": "display_data"
    },
    {
     "data": {
      "text/plain": [
       "<Figure size 2160x2160 with 0 Axes>"
      ]
     },
     "metadata": {},
     "output_type": "display_data"
    }
   ],
   "source": [
    "butler.plot_attn_map(impath = '../data/MEX/484007070/pngs/484007070_2010_all_box484007070_MAY.png')\n"
   ]
  },
  {
   "cell_type": "code",
   "execution_count": null,
   "id": "5b47d9a4",
   "metadata": {},
   "outputs": [],
   "source": []
  }
 ],
 "metadata": {
  "kernelspec": {
   "display_name": "Python 3",
   "language": "python",
   "name": "python3"
  },
  "language_info": {
   "codemirror_mode": {
    "name": "ipython",
    "version": 3
   },
   "file_extension": ".py",
   "mimetype": "text/x-python",
   "name": "python",
   "nbconvert_exporter": "python",
   "pygments_lexer": "ipython3",
   "version": "3.7.10"
  }
 },
 "nbformat": 4,
 "nbformat_minor": 5
}
