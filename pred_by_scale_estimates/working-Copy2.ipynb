{
 "cells": [
  {
   "cell_type": "code",
   "execution_count": 1,
   "id": "9e7c3eeb",
   "metadata": {},
   "outputs": [],
   "source": [
    "import os\n",
    "os.environ[\"CUDA_DEVICE_ORDER\"] = \"PCI_BUS_ID\" \n",
    "os.environ[\"CUDA_VISIBLE_DEVICES\"] = \"3\"\n",
    "\n",
    "\n",
    "from torchvision.utils import make_grid, save_image\n",
    "import torchvision.models as models\n",
    "import torch.nn.functional as F\n",
    "import matplotlib.pyplot as plt\n",
    "from copy import deepcopy\n",
    "import numpy as np\n",
    "import random\n",
    "import torch\n",
    "import json\n",
    "import PIL\n",
    "\n",
    "\n",
    "from handler import geozoom_handler\n",
    "# from helpers import *\n",
    "from fc_net import *\n",
    "from utils import *\n",
    "from sa import *"
   ]
  },
  {
   "cell_type": "code",
   "execution_count": 2,
   "id": "831f83fd",
   "metadata": {},
   "outputs": [],
   "source": [
    "# random.sample(range(0, len(image_names)), 5)"
   ]
  },
  {
   "cell_type": "code",
   "execution_count": 3,
   "id": "60f055ee",
   "metadata": {},
   "outputs": [
    {
     "name": "stdout",
     "output_type": "stream",
     "text": [
      "15 municipalities.\n"
     ]
    }
   ],
   "source": [
    "image_names = get_png_names(\"../data/MEX/\")[0:15]\n",
    "# image_names = get_png_names(\"../pooling/data/MEX2/\")\n",
    "# image_indices = random.sample(range(0, len(image_names)), 1000)\n",
    "# image_names = [image_names[i] for i in range(len(image_names)) if i in image_indices]\n",
    "y = get_migrants(\"../../pooling/data/migration_data.json\" , image_names)"
   ]
  },
  {
   "cell_type": "code",
   "execution_count": 5,
   "id": "9f2acb3a",
   "metadata": {},
   "outputs": [],
   "source": [
    "device = torch.device(\"cuda\" if torch.cuda.is_available() else \"cpu\")\n",
    "resnet18 = models.resnet18().to(device)\n",
    "attn_model = attnNet(resnet = resnet18).to(device)\n",
    "lr = .001\n",
    "criterion = torch.nn.L1Loss(reduction = 'mean')\n",
    "attn_optimizer = torch.optim.Adam(attn_model.parameters(), lr = lr)\n",
    "\n",
    "butler = geozoom_handler(attn_model, \n",
    "                         device, \n",
    "                         criterion, \n",
    "                         attn_optimizer, \n",
    "                         num_thresholds = 4,\n",
    "                         reduction_percent = .70,\n",
    "                         convergence_dims = (224, 224),\n",
    "                         perc_change_thresh = (-50, 50),\n",
    "                         plot = False, \n",
    "                         v = False)"
   ]
  },
  {
   "cell_type": "code",
   "execution_count": 6,
   "id": "3d99f14a",
   "metadata": {},
   "outputs": [
    {
     "data": {
      "text/plain": [
       "SelfAttention(\n",
       "  (query_conv): Conv2d(256, 32, kernel_size=(1, 1), stride=(1, 1))\n",
       "  (key_conv): Conv2d(256, 32, kernel_size=(1, 1), stride=(1, 1))\n",
       "  (value_conv): Conv2d(256, 256, kernel_size=(1, 1), stride=(1, 1))\n",
       "  (softmax): Softmax(dim=-1)\n",
       ")"
      ]
     },
     "execution_count": 6,
     "metadata": {},
     "output_type": "execute_result"
    }
   ],
   "source": [
    "attn_model.sa"
   ]
  },
  {
   "cell_type": "code",
   "execution_count": 7,
   "id": "727634b5",
   "metadata": {},
   "outputs": [],
   "source": [
    "BATCH_SIZE = 1\n",
    "SPLIT = .60\n",
    "\n",
    "train_dl, val_dl = butler.prep_attn_data(image_names, y, SPLIT, BATCH_SIZE)"
   ]
  },
  {
   "cell_type": "code",
   "execution_count": 8,
   "id": "6fe197f8",
   "metadata": {},
   "outputs": [
    {
     "name": "stdout",
     "output_type": "stream",
     "text": [
      "Num training:  9\n",
      "Num validation:  6\n"
     ]
    }
   ],
   "source": [
    "print(\"Num training: \", len(train_dl))\n",
    "print(\"Num validation: \", len(val_dl))"
   ]
  },
  {
   "cell_type": "code",
   "execution_count": 9,
   "id": "6184bfec",
   "metadata": {},
   "outputs": [],
   "source": [
    "# for i,o in train_dl:\n",
    "#     print(i)\n",
    "# #     print(load_inputs(i[0]).shape, o)"
   ]
  },
  {
   "cell_type": "code",
   "execution_count": 10,
   "id": "f61b3bac",
   "metadata": {},
   "outputs": [
    {
     "name": "stderr",
     "output_type": "stream",
     "text": [
      "/opt/conda/envs/rapids/lib/python3.7/site-packages/torch/nn/functional.py:3328: UserWarning: nn.functional.upsample is deprecated. Use nn.functional.interpolate instead.\n",
      "  warnings.warn(\"nn.functional.upsample is deprecated. Use nn.functional.interpolate instead.\")\n"
     ]
    },
    {
     "name": "stdout",
     "output_type": "stream",
     "text": [
      "Epoch:  0\n",
      "  Training Loss:  2573.8209727075364\n",
      "  Validation Loss:  7254.84281317393\n",
      "\n",
      "\n",
      "Epoch:  1\n",
      "  Training Loss:  2568.864212989807\n",
      "  Validation Loss:  7331.734318415324\n",
      "\n",
      "\n",
      "Epoch:  2\n",
      "  Training Loss:  2565.265174335904\n",
      "  Validation Loss:  7352.561503092448\n",
      "\n",
      "\n",
      "Epoch:  3\n",
      "  Training Loss:  2561.8527779049346\n",
      "  Validation Loss:  7372.736526489258\n",
      "\n",
      "\n",
      "Epoch:  4\n",
      "  Training Loss:  2557.3725079430474\n",
      "  Validation Loss:  9188.797526041666\n",
      "Percentage above threshold:  0.5555555555555556\n",
      "\n",
      "\n",
      "Epoch:  5\n",
      "  Training Loss:  2554.1912981669107\n",
      "  Validation Loss:  7467.206151326497\n",
      "Percentage above threshold:  0.6666666666666666\n",
      "  Moving to threshold:  2\n",
      "\n",
      "\n",
      "Epoch:  6\n",
      "  Training Loss:  2551.56677224901\n",
      "  Validation Loss:  9505.354771931967\n",
      "\n",
      "\n",
      "Epoch:  7\n",
      "  Training Loss:  2548.5490720536973\n",
      "  Validation Loss:  7410.007909138997\n",
      "\n",
      "\n",
      "Epoch:  8\n",
      "  Training Loss:  2544.046554353502\n",
      "  Validation Loss:  8046.928695678711\n",
      "\n",
      "\n",
      "Epoch:  9\n",
      "  Training Loss:  2539.9669986300996\n",
      "  Validation Loss:  8553.888254801432\n",
      "Percentage above threshold:  0.4444444444444444\n",
      "\n",
      "\n",
      "Epoch:  10\n",
      "  Training Loss:  2536.1601604885527\n",
      "  Validation Loss:  7384.732004801433\n",
      "Percentage above threshold:  0.1111111111111111\n",
      "\n",
      "\n",
      "Epoch:  11\n",
      "  Training Loss:  2529.7743227216934\n",
      "  Validation Loss:  7442.05572827657\n",
      "Percentage above threshold:  0.2222222222222222\n",
      "\n",
      "\n",
      "Epoch:  12\n",
      "  Training Loss:  2525.285450193617\n",
      "  Validation Loss:  7867.505313873291\n",
      "Percentage above threshold:  0.5555555555555556\n",
      "\n",
      "\n",
      "Epoch:  13\n",
      "  Training Loss:  2520.26095284356\n",
      "  Validation Loss:  7687.673075358073\n",
      "Percentage above threshold:  0.4444444444444444\n",
      "\n",
      "\n",
      "Epoch:  14\n",
      "  Training Loss:  2520.1162287394204\n",
      "  Validation Loss:  8337.665402730307\n",
      "Percentage above threshold:  0.5555555555555556\n",
      "\n",
      "\n",
      "Epoch:  15\n",
      "  Training Loss:  2512.4337815178765\n",
      "  Validation Loss:  10908.438466389975\n",
      "Percentage above threshold:  0.4444444444444444\n",
      "\n",
      "\n",
      "Epoch:  16\n",
      "  Training Loss:  2505.020876566569\n",
      "  Validation Loss:  7446.787089029948\n",
      "Percentage above threshold:  0.4444444444444444\n",
      "\n",
      "\n",
      "Epoch:  17\n",
      "  Training Loss:  2503.287687089708\n",
      "  Validation Loss:  7334.940143585205\n",
      "Percentage above threshold:  0.2222222222222222\n",
      "\n",
      "\n",
      "Epoch:  18\n",
      "  Training Loss:  2495.7505878872344\n",
      "  Validation Loss:  7343.483001708984\n",
      "Percentage above threshold:  0.2222222222222222\n",
      "\n",
      "\n",
      "Epoch:  19\n",
      "  Training Loss:  2486.026057773166\n",
      "  Validation Loss:  7323.7273356119795\n",
      "Percentage above threshold:  0.5555555555555556\n",
      "\n",
      "\n",
      "Epoch:  20\n",
      "  Training Loss:  2476.1520580715605\n",
      "  Validation Loss:  7313.855977376302\n",
      "Percentage above threshold:  0.4444444444444444\n",
      "\n",
      "\n",
      "Epoch:  21\n",
      "  Training Loss:  2467.3658612569175\n",
      "  Validation Loss:  7309.01491800944\n",
      "Percentage above threshold:  0.3333333333333333\n",
      "\n",
      "\n",
      "Epoch:  22\n",
      "  Training Loss:  2459.680800967746\n",
      "  Validation Loss:  7351.138960520427\n",
      "Percentage above threshold:  0.5555555555555556\n",
      "\n",
      "\n",
      "Epoch:  23\n",
      "  Training Loss:  2450.577699025472\n",
      "  Validation Loss:  7275.09519259135\n",
      "Percentage above threshold:  0.6666666666666666\n",
      "  Moving to threshold:  1\n",
      "\n",
      "\n",
      "Epoch:  24\n",
      "  Training Loss:  2463.488390604655\n",
      "  Validation Loss:  8458.543009440104\n",
      "\n",
      "\n",
      "Epoch:  25\n",
      "  Training Loss:  2442.0510652330186\n",
      "  Validation Loss:  10244.656026204428\n",
      "\n",
      "\n",
      "Epoch:  26\n",
      "  Training Loss:  2429.804570092095\n",
      "  Validation Loss:  7651.226463317871\n",
      "\n",
      "\n",
      "Epoch:  27\n",
      "  Training Loss:  2421.6881908840605\n",
      "  Validation Loss:  8078.820355733235\n",
      "Percentage above threshold:  0.4444444444444444\n",
      "\n",
      "\n",
      "Epoch:  28\n",
      "  Training Loss:  2411.013505723741\n",
      "  Validation Loss:  8038.598075866699\n",
      "Percentage above threshold:  0.4444444444444444\n",
      "\n",
      "\n",
      "Epoch:  29\n",
      "  Training Loss:  2399.804820590549\n",
      "  Validation Loss:  7734.279551188151\n",
      "Percentage above threshold:  0.6666666666666666\n",
      "  Moving to threshold:  0\n",
      "\n",
      "\n",
      "Switching to fully connected model!\n",
      "Random Forest MAE:  2238.4826666666672\n"
     ]
    }
   ],
   "source": [
    "butler.train_attn_model(train_dl, val_dl)"
   ]
  },
  {
   "cell_type": "code",
   "execution_count": 10,
   "id": "57ac1a84",
   "metadata": {},
   "outputs": [
    {
     "name": "stdout",
     "output_type": "stream",
     "text": [
      "MLP MAE:  4617.186772865517\n"
     ]
    },
    {
     "name": "stderr",
     "output_type": "stream",
     "text": [
      "/opt/conda/envs/rapids/lib/python3.7/site-packages/sklearn/neural_network/_multilayer_perceptron.py:585: ConvergenceWarning: Stochastic Optimizer: Maximum iterations (200) reached and the optimization hasn't converged yet.\n",
      "  % self.max_iter, ConvergenceWarning)\n"
     ]
    }
   ],
   "source": [
    "butler.train_fc_model(train_dl, val_dl, outside_estimator = 'mlp')"
   ]
  },
  {
   "cell_type": "code",
   "execution_count": 12,
   "id": "84f1801b",
   "metadata": {},
   "outputs": [
    {
     "data": {
      "text/plain": [
       "['../data/MEX/484001008/pngs/484001008_2010_all_box484001008_MAY.png',\n",
       " '../data/MEX/484004004/pngs/484004004_2010_all_box484004004_MAY.png',\n",
       " '../data/MEX/484004001/pngs/484004001_2010_all_box484004001_MAY.png',\n",
       " '../data/MEX/484005010/pngs/484005010_2010_all_box484005010_MAY.png',\n",
       " '../data/MEX/484001005/pngs/484001005_2010_all_box484001005_MAY.png',\n",
       " '../data/MEX/484001007/pngs/484001007_2010_all_box484001007_MAY.png',\n",
       " '../data/MEX/484001006/pngs/484001006_2010_all_box484001006_MAY.png',\n",
       " '../data/MEX/484001001/pngs/484001001_2010_all_box484001001_MAY.png',\n",
       " '../data/MEX/484004005/pngs/484004005_2010_all_box484004005_MAY.png',\n",
       " '../data/MEX/484005001/pngs/484005001_2010_all_box484005001_MAY.png',\n",
       " '../data/MEX/484005004/pngs/484005004_2010_all_box484005004_MAY.png',\n",
       " '../data/MEX/484005008/pngs/484005008_2010_all_box484005008_MAY.png',\n",
       " '../data/MEX/484001002/pngs/484001002_2010_all_box484001002_MAY.png',\n",
       " '../data/MEX/484004006/pngs/484004006_2010_all_box484004006_MAY.png',\n",
       " '../data/MEX/484001004/pngs/484001004_2010_all_box484001004_MAY.png']"
      ]
     },
     "execution_count": 12,
     "metadata": {},
     "output_type": "execute_result"
    }
   ],
   "source": [
    "image_names"
   ]
  },
  {
   "cell_type": "code",
   "execution_count": 11,
   "id": "73ff37cd",
   "metadata": {},
   "outputs": [
    {
     "name": "stderr",
     "output_type": "stream",
     "text": [
      "/opt/conda/envs/rapids/lib/python3.7/site-packages/torch/nn/functional.py:3328: UserWarning: nn.functional.upsample is deprecated. Use nn.functional.interpolate instead.\n",
      "  warnings.warn(\"nn.functional.upsample is deprecated. Use nn.functional.interpolate instead.\")\n"
     ]
    },
    {
     "data": {
      "text/plain": [
       "<Figure size 2160x2160 with 0 Axes>"
      ]
     },
     "metadata": {},
     "output_type": "display_data"
    },
    {
     "data": {
      "text/plain": [
       "<Figure size 2160x2160 with 0 Axes>"
      ]
     },
     "metadata": {},
     "output_type": "display_data"
    },
    {
     "data": {
      "text/plain": [
       "<Figure size 2160x2160 with 0 Axes>"
      ]
     },
     "metadata": {},
     "output_type": "display_data"
    }
   ],
   "source": [
    "butler.plot_attn_map(impath = '../data/MEX/484001002/pngs/484001002_2010_all_box484001002_MAY.png')\n"
   ]
  },
  {
   "cell_type": "code",
   "execution_count": null,
   "id": "0621c728",
   "metadata": {},
   "outputs": [],
   "source": []
  }
 ],
 "metadata": {
  "kernelspec": {
   "display_name": "Python 3",
   "language": "python",
   "name": "python3"
  },
  "language_info": {
   "codemirror_mode": {
    "name": "ipython",
    "version": 3
   },
   "file_extension": ".py",
   "mimetype": "text/x-python",
   "name": "python",
   "nbconvert_exporter": "python",
   "pygments_lexer": "ipython3",
   "version": "3.7.10"
  }
 },
 "nbformat": 4,
 "nbformat_minor": 5
}
