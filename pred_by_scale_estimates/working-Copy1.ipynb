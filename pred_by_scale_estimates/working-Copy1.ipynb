{
 "cells": [
  {
   "cell_type": "code",
   "execution_count": 1,
   "id": "7109685d",
   "metadata": {},
   "outputs": [],
   "source": [
    "import os\n",
    "os.environ[\"CUDA_DEVICE_ORDER\"] = \"PCI_BUS_ID\" \n",
    "os.environ[\"CUDA_VISIBLE_DEVICES\"] = \"1\"\n",
    "\n",
    "\n",
    "from torchvision.utils import make_grid, save_image\n",
    "import torchvision.models as models\n",
    "import torch.nn.functional as F\n",
    "import matplotlib.pyplot as plt\n",
    "from copy import deepcopy\n",
    "import numpy as np\n",
    "import random\n",
    "import torch\n",
    "import json\n",
    "import PIL\n",
    "\n",
    "\n",
    "from handler import geozoom_handler\n",
    "# from helpers import *\n",
    "from fc_net import *\n",
    "from utils import *\n",
    "from sa import *"
   ]
  },
  {
   "cell_type": "code",
   "execution_count": 2,
   "id": "63793283",
   "metadata": {},
   "outputs": [],
   "source": [
    "# random.sample(range(0, len(image_names)), 5)"
   ]
  },
  {
   "cell_type": "code",
   "execution_count": 3,
   "id": "9e0eaca9",
   "metadata": {},
   "outputs": [
    {
     "name": "stdout",
     "output_type": "stream",
     "text": [
      "100 municipalities.\n"
     ]
    }
   ],
   "source": [
    "image_names = get_png_names(\"../data/MEX/\")[0:100]\n",
    "# image_names = get_png_names(\"../pooling/data/MEX2/\")\n",
    "# image_indices = random.sample(range(0, len(image_names)), 1000)\n",
    "# image_names = [image_names[i] for i in range(len(image_names)) if i in image_indices]\n",
    "y = get_migrants(\"../../pooling/data/migration_data.json\" , image_names)"
   ]
  },
  {
   "cell_type": "code",
   "execution_count": 4,
   "id": "415d6295",
   "metadata": {},
   "outputs": [],
   "source": [
    "device = torch.device(\"cuda\" if torch.cuda.is_available() else \"cpu\")\n",
    "resnet18 = models.resnet18().to(device)\n",
    "attn_model = attnNet(resnet = resnet18).to(device)\n",
    "lr = .001\n",
    "criterion = torch.nn.L1Loss(reduction = 'mean')\n",
    "attn_optimizer = torch.optim.Adam(attn_model.parameters(), lr = lr)\n",
    "\n",
    "fc_model = fc_net(resnet = resnet18).to(device)\n",
    "fc_optimizer = torch.optim.Adam(fc_model.parameters(), lr = .001)\n",
    "\n",
    "butler = geozoom_handler(attn_model, \n",
    "                         fc_model, device, \n",
    "                         criterion, \n",
    "                         attn_optimizer, \n",
    "                         fc_optimizer, \n",
    "                         num_thresholds = 10,\n",
    "                         reduction_percent = .70,\n",
    "                         convergence_dims = (224, 224),\n",
    "                         plot = False, \n",
    "                         v = False)"
   ]
  },
  {
   "cell_type": "code",
   "execution_count": 5,
   "id": "57290819",
   "metadata": {},
   "outputs": [
    {
     "data": {
      "text/plain": [
       "SelfAttention(\n",
       "  (query_conv): Conv2d(256, 32, kernel_size=(1, 1), stride=(1, 1))\n",
       "  (key_conv): Conv2d(256, 32, kernel_size=(1, 1), stride=(1, 1))\n",
       "  (value_conv): Conv2d(256, 256, kernel_size=(1, 1), stride=(1, 1))\n",
       "  (softmax): Softmax(dim=-1)\n",
       ")"
      ]
     },
     "execution_count": 5,
     "metadata": {},
     "output_type": "execute_result"
    }
   ],
   "source": [
    "attn_model.sa"
   ]
  },
  {
   "cell_type": "code",
   "execution_count": 6,
   "id": "ac3db1f5",
   "metadata": {},
   "outputs": [],
   "source": [
    "BATCH_SIZE = 1\n",
    "SPLIT = .60\n",
    "\n",
    "train_dl, val_dl = butler.prep_attn_data(image_names, y, SPLIT, BATCH_SIZE)"
   ]
  },
  {
   "cell_type": "code",
   "execution_count": 7,
   "id": "9b6e5ef0",
   "metadata": {},
   "outputs": [
    {
     "name": "stdout",
     "output_type": "stream",
     "text": [
      "Num training:  60\n",
      "Num validation:  40\n"
     ]
    }
   ],
   "source": [
    "print(\"Num training: \", len(train_dl))\n",
    "print(\"Num validation: \", len(val_dl))"
   ]
  },
  {
   "cell_type": "code",
   "execution_count": 10,
   "id": "3007a736",
   "metadata": {},
   "outputs": [
    {
     "data": {
      "text/plain": [
       "['../data/MEX/484001008/pngs/484001008_2010_all_box484001008_MAY.png',\n",
       " '../data/MEX/484004004/pngs/484004004_2010_all_box484004004_MAY.png',\n",
       " '../data/MEX/484004001/pngs/484004001_2010_all_box484004001_MAY.png',\n",
       " '../data/MEX/484005010/pngs/484005010_2010_all_box484005010_MAY.png',\n",
       " '../data/MEX/484001005/pngs/484001005_2010_all_box484001005_MAY.png',\n",
       " '../data/MEX/484001007/pngs/484001007_2010_all_box484001007_MAY.png',\n",
       " '../data/MEX/484001006/pngs/484001006_2010_all_box484001006_MAY.png',\n",
       " '../data/MEX/484001001/pngs/484001001_2010_all_box484001001_MAY.png',\n",
       " '../data/MEX/484004005/pngs/484004005_2010_all_box484004005_MAY.png',\n",
       " '../data/MEX/484005001/pngs/484005001_2010_all_box484005001_MAY.png',\n",
       " '../data/MEX/484005004/pngs/484005004_2010_all_box484005004_MAY.png',\n",
       " '../data/MEX/484005008/pngs/484005008_2010_all_box484005008_MAY.png',\n",
       " '../data/MEX/484001002/pngs/484001002_2010_all_box484001002_MAY.png',\n",
       " '../data/MEX/484004006/pngs/484004006_2010_all_box484004006_MAY.png',\n",
       " '../data/MEX/484001004/pngs/484001004_2010_all_box484001004_MAY.png',\n",
       " '../data/MEX/484005013/pngs/484005013_2010_all_box484005013_MAY.png',\n",
       " '../data/MEX/484001003/pngs/484001003_2010_all_box484001003_MAY.png',\n",
       " '../data/MEX/484005003/pngs/484005003_2010_all_box484005003_MAY.png',\n",
       " '../data/MEX/484005018/pngs/484005018_2010_all_box484005018_MAY.png',\n",
       " '../data/MEX/484005019/pngs/484005019_2010_all_box484005019_MAY.png',\n",
       " '../data/MEX/484005016/pngs/484005016_2010_all_box484005016_MAY.png',\n",
       " '../data/MEX/484005015/pngs/484005015_2010_all_box484005015_MAY.png',\n",
       " '../data/MEX/484005014/pngs/484005014_2010_all_box484005014_MAY.png',\n",
       " '../data/MEX/484005017/pngs/484005017_2010_all_box484005017_MAY.png',\n",
       " '../data/MEX/484005021/pngs/484005021_2010_all_box484005021_MAY.png',\n",
       " '../data/MEX/484005022/pngs/484005022_2010_all_box484005022_MAY.png',\n",
       " '../data/MEX/484005025/pngs/484005025_2010_all_box484005025_MAY.png',\n",
       " '../data/MEX/484005028/pngs/484005028_2010_all_box484005028_MAY.png',\n",
       " '../data/MEX/484005029/pngs/484005029_2010_all_box484005029_MAY.png',\n",
       " '../data/MEX/484005032/pngs/484005032_2010_all_box484005032_MAY.png',\n",
       " '../data/MEX/484006002/pngs/484006002_2010_all_box484006002_MAY.png',\n",
       " '../data/MEX/484006003/pngs/484006003_2010_all_box484006003_MAY.png',\n",
       " '../data/MEX/484006004/pngs/484006004_2010_all_box484006004_MAY.png',\n",
       " '../data/MEX/484006005/pngs/484006005_2010_all_box484006005_MAY.png',\n",
       " '../data/MEX/484006006/pngs/484006006_2010_all_box484006006_MAY.png',\n",
       " '../data/MEX/484006007/pngs/484006007_2010_all_box484006007_MAY.png',\n",
       " '../data/MEX/484007001/pngs/484007001_2010_all_box484007001_MAY.png',\n",
       " '../data/MEX/484006009/pngs/484006009_2010_all_box484006009_MAY.png',\n",
       " '../data/MEX/484007002/pngs/484007002_2010_all_box484007002_MAY.png',\n",
       " '../data/MEX/484007003/pngs/484007003_2010_all_box484007003_MAY.png',\n",
       " '../data/MEX/484007004/pngs/484007004_2010_all_box484007004_MAY.png',\n",
       " '../data/MEX/484007006/pngs/484007006_2010_all_box484007006_MAY.png',\n",
       " '../data/MEX/484007007/pngs/484007007_2010_all_box484007007_MAY.png',\n",
       " '../data/MEX/484007008/pngs/484007008_2010_all_box484007008_MAY.png',\n",
       " '../data/MEX/484007010/pngs/484007010_2010_all_box484007010_MAY.png',\n",
       " '../data/MEX/484007011/pngs/484007011_2010_all_box484007011_MAY.png',\n",
       " '../data/MEX/484007014/pngs/484007014_2010_all_box484007014_MAY.png',\n",
       " '../data/MEX/484007016/pngs/484007016_2010_all_box484007016_MAY.png',\n",
       " '../data/MEX/484007015/pngs/484007015_2010_all_box484007015_MAY.png',\n",
       " '../data/MEX/484007019/pngs/484007019_2010_all_box484007019_MAY.png',\n",
       " '../data/MEX/484007020/pngs/484007020_2010_all_box484007020_MAY.png',\n",
       " '../data/MEX/484007022/pngs/484007022_2010_all_box484007022_MAY.png',\n",
       " '../data/MEX/484007023/pngs/484007023_2010_all_box484007023_MAY.png',\n",
       " '../data/MEX/484007024/pngs/484007024_2010_all_box484007024_MAY.png',\n",
       " '../data/MEX/484007026/pngs/484007026_2010_all_box484007026_MAY.png',\n",
       " '../data/MEX/484007027/pngs/484007027_2010_all_box484007027_MAY.png',\n",
       " '../data/MEX/484007028/pngs/484007028_2010_all_box484007028_MAY.png',\n",
       " '../data/MEX/484007030/pngs/484007030_2010_all_box484007030_MAY.png',\n",
       " '../data/MEX/484007031/pngs/484007031_2010_all_box484007031_MAY.png',\n",
       " '../data/MEX/484007032/pngs/484007032_2010_all_box484007032_MAY.png',\n",
       " '../data/MEX/484007034/pngs/484007034_2010_all_box484007034_MAY.png',\n",
       " '../data/MEX/484007036/pngs/484007036_2010_all_box484007036_MAY.png',\n",
       " '../data/MEX/484007037/pngs/484007037_2010_all_box484007037_MAY.png',\n",
       " '../data/MEX/484007038/pngs/484007038_2010_all_box484007038_MAY.png',\n",
       " '../data/MEX/484007039/pngs/484007039_2010_all_box484007039_MAY.png',\n",
       " '../data/MEX/484007040/pngs/484007040_2010_all_box484007040_MAY.png',\n",
       " '../data/MEX/484007041/pngs/484007041_2010_all_box484007041_MAY.png',\n",
       " '../data/MEX/484007044/pngs/484007044_2010_all_box484007044_MAY.png',\n",
       " '../data/MEX/484007047/pngs/484007047_2010_all_box484007047_MAY.png',\n",
       " '../data/MEX/484007049/pngs/484007049_2010_all_box484007049_MAY.png',\n",
       " '../data/MEX/484007050/pngs/484007050_2010_all_box484007050_MAY.png',\n",
       " '../data/MEX/484007051/pngs/484007051_2010_all_box484007051_MAY.png',\n",
       " '../data/MEX/484007053/pngs/484007053_2010_all_box484007053_MAY.png',\n",
       " '../data/MEX/484007056/pngs/484007056_2010_all_box484007056_MAY.png',\n",
       " '../data/MEX/484007058/pngs/484007058_2010_all_box484007058_MAY.png',\n",
       " '../data/MEX/484007057/pngs/484007057_2010_all_box484007057_MAY.png',\n",
       " '../data/MEX/484007064/pngs/484007064_2010_all_box484007064_MAY.png',\n",
       " '../data/MEX/484007066/pngs/484007066_2010_all_box484007066_MAY.png',\n",
       " '../data/MEX/484007069/pngs/484007069_2010_all_box484007069_MAY.png',\n",
       " '../data/MEX/484007071/pngs/484007071_2010_all_box484007071_MAY.png',\n",
       " '../data/MEX/484007070/pngs/484007070_2010_all_box484007070_MAY.png',\n",
       " '../data/MEX/484007075/pngs/484007075_2010_all_box484007075_MAY.png',\n",
       " '../data/MEX/484007076/pngs/484007076_2010_all_box484007076_MAY.png',\n",
       " '../data/MEX/484007077/pngs/484007077_2010_all_box484007077_MAY.png',\n",
       " '../data/MEX/484007078/pngs/484007078_2010_all_box484007078_MAY.png',\n",
       " '../data/MEX/484007080/pngs/484007080_2010_all_box484007080_MAY.png',\n",
       " '../data/MEX/484007081/pngs/484007081_2010_all_box484007081_MAY.png',\n",
       " '../data/MEX/484007082/pngs/484007082_2010_all_box484007082_MAY.png',\n",
       " '../data/MEX/484007083/pngs/484007083_2010_all_box484007083_MAY.png',\n",
       " '../data/MEX/484007089/pngs/484007089_2010_all_box484007089_MAY.png',\n",
       " '../data/MEX/484007094/pngs/484007094_2010_all_box484007094_MAY.png',\n",
       " '../data/MEX/484007093/pngs/484007093_2010_all_box484007093_MAY.png',\n",
       " '../data/MEX/484007095/pngs/484007095_2010_all_box484007095_MAY.png',\n",
       " '../data/MEX/484007098/pngs/484007098_2010_all_box484007098_MAY.png',\n",
       " '../data/MEX/484007097/pngs/484007097_2010_all_box484007097_MAY.png',\n",
       " '../data/MEX/484007099/pngs/484007099_2010_all_box484007099_MAY.png',\n",
       " '../data/MEX/484007102/pngs/484007102_2010_all_box484007102_MAY.png',\n",
       " '../data/MEX/484007103/pngs/484007103_2010_all_box484007103_MAY.png',\n",
       " '../data/MEX/484007104/pngs/484007104_2010_all_box484007104_MAY.png',\n",
       " '../data/MEX/484007105/pngs/484007105_2010_all_box484007105_MAY.png']"
      ]
     },
     "execution_count": 10,
     "metadata": {},
     "output_type": "execute_result"
    }
   ],
   "source": [
    "image_names"
   ]
  },
  {
   "cell_type": "code",
   "execution_count": 9,
   "id": "c062eb3e",
   "metadata": {},
   "outputs": [
    {
     "name": "stderr",
     "output_type": "stream",
     "text": [
      "/opt/conda/envs/rapids/lib/python3.7/site-packages/torch/nn/functional.py:3328: UserWarning: nn.functional.upsample is deprecated. Use nn.functional.interpolate instead.\n",
      "  warnings.warn(\"nn.functional.upsample is deprecated. Use nn.functional.interpolate instead.\")\n"
     ]
    },
    {
     "name": "stdout",
     "output_type": "stream",
     "text": [
      "Epoch:  0\n",
      "  Training Loss:  2169.4016865412395\n",
      "  Validation Loss:  1376.1240332126617\n",
      "\n",
      "\n",
      "Epoch:  1\n",
      "  Training Loss:  2141.4638673782347\n",
      "  Validation Loss:  1370.288335418701\n",
      "\n",
      "\n",
      "Epoch:  2\n",
      "  Training Loss:  2120.110971705119\n",
      "  Validation Loss:  1353.5679107666015\n",
      "\n",
      "\n",
      "Epoch:  3\n",
      "  Training Loss:  2100.273968887329\n",
      "  Validation Loss:  1349.6906396865845\n",
      "\n",
      "\n",
      "Epoch:  4\n",
      "  Training Loss:  2081.2946067810058\n",
      "  Validation Loss:  1316.7540157318115\n",
      "Percentage above threshold:  1.0\n",
      "  Moving to threshold:  8\n",
      "\n",
      "\n",
      "Epoch:  5\n",
      "  Training Loss:  2065.893147532145\n",
      "  Validation Loss:  1300.5041847229004\n",
      "\n",
      "\n",
      "Epoch:  6\n",
      "  Training Loss:  2047.6519706726074\n",
      "  Validation Loss:  1297.1062446594237\n",
      "\n",
      "\n",
      "Epoch:  7\n",
      "  Training Loss:  2034.3321756998698\n",
      "  Validation Loss:  1280.8518135070801\n",
      "\n",
      "\n",
      "Epoch:  8\n",
      "  Training Loss:  2025.7687525431315\n",
      "  Validation Loss:  1289.7690597534179\n",
      "Percentage above threshold:  1.0\n",
      "  Moving to threshold:  7\n",
      "\n",
      "\n",
      "Epoch:  9\n",
      "  Training Loss:  2017.6233861287435\n",
      "  Validation Loss:  1283.9876899719238\n",
      "\n",
      "\n",
      "Epoch:  10\n",
      "  Training Loss:  2011.6868387858074\n",
      "  Validation Loss:  1277.9408050537108\n",
      "\n",
      "\n",
      "Epoch:  11\n",
      "  Training Loss:  2005.1673833211264\n",
      "  Validation Loss:  1283.6307205200196\n",
      "\n",
      "\n",
      "Epoch:  12\n",
      "  Training Loss:  1998.1534998575846\n",
      "  Validation Loss:  1279.6894927978515\n",
      "Percentage above threshold:  1.0\n",
      "  Moving to threshold:  6\n",
      "\n",
      "\n",
      "Epoch:  13\n",
      "  Training Loss:  1993.2444056193033\n",
      "  Validation Loss:  1291.6215171813965\n",
      "\n",
      "\n",
      "Epoch:  14\n",
      "  Training Loss:  1990.734928894043\n",
      "  Validation Loss:  1286.0056419372559\n",
      "\n",
      "\n",
      "Epoch:  15\n",
      "  Training Loss:  1985.4769378662108\n",
      "  Validation Loss:  1282.8402015686036\n",
      "\n",
      "\n",
      "Epoch:  16\n",
      "  Training Loss:  1978.870169067383\n",
      "  Validation Loss:  1279.671555328369\n",
      "Percentage above threshold:  1.0\n",
      "  Moving to threshold:  5\n",
      "\n",
      "\n",
      "Epoch:  17\n",
      "  Training Loss:  1976.6911346435547\n",
      "  Validation Loss:  1299.6564575195312\n",
      "\n",
      "\n",
      "Epoch:  18\n",
      "  Training Loss:  1972.0457407633464\n",
      "  Validation Loss:  1304.8345916748046\n",
      "\n",
      "\n",
      "Epoch:  19\n",
      "  Training Loss:  1966.4680775960287\n",
      "  Validation Loss:  1293.0803009033202\n",
      "\n",
      "\n",
      "Epoch:  20\n",
      "  Training Loss:  1960.1556620279948\n",
      "  Validation Loss:  1306.5189117431642\n",
      "Percentage above threshold:  1.0\n",
      "  Moving to threshold:  4\n",
      "\n",
      "\n",
      "Epoch:  21\n",
      "  Training Loss:  1965.9507619222006\n",
      "  Validation Loss:  1324.9018798828124\n",
      "\n",
      "\n",
      "Epoch:  22\n",
      "  Training Loss:  1951.6263346354167\n",
      "  Validation Loss:  1303.6196060180664\n",
      "\n",
      "\n",
      "Epoch:  23\n",
      "  Training Loss:  1951.7444844563802\n",
      "  Validation Loss:  1301.2397720336915\n",
      "\n",
      "\n",
      "Epoch:  24\n",
      "  Training Loss:  1961.2083709716796\n",
      "  Validation Loss:  1308.641146850586\n",
      "Percentage above threshold:  1.0\n",
      "  Moving to threshold:  3\n",
      "\n",
      "\n",
      "Epoch:  25\n",
      "  Training Loss:  1947.1121459960937\n",
      "  Validation Loss:  1301.901008605957\n",
      "\n",
      "\n",
      "Epoch:  26\n",
      "  Training Loss:  1936.0234853108725\n",
      "  Validation Loss:  1324.2738983154297\n",
      "\n",
      "\n",
      "Epoch:  27\n",
      "  Training Loss:  1933.2332855224608\n",
      "  Validation Loss:  1304.9389778137206\n",
      "\n",
      "\n",
      "Epoch:  28\n",
      "  Training Loss:  1922.710595703125\n",
      "  Validation Loss:  1326.8625564575195\n",
      "Percentage above threshold:  1.0\n",
      "  Moving to threshold:  2\n",
      "\n",
      "\n",
      "Epoch:  29\n",
      "  Training Loss:  1920.7406311035156\n",
      "  Validation Loss:  1300.7584503173828\n",
      "\n",
      "\n",
      "Epoch:  30\n",
      "  Training Loss:  1921.3152221679688\n",
      "  Validation Loss:  1335.635498046875\n",
      "\n",
      "\n",
      "Epoch:  31\n",
      "  Training Loss:  1908.9183766682943\n",
      "  Validation Loss:  1325.528359222412\n",
      "\n",
      "\n",
      "Epoch:  32\n",
      "  Training Loss:  1894.3474782307942\n",
      "  Validation Loss:  1437.4150703430175\n",
      "Percentage above threshold:  1.0\n",
      "  Moving to threshold:  1\n",
      "\n",
      "\n",
      "Epoch:  33\n",
      "  Training Loss:  1898.3471623738608\n",
      "  Validation Loss:  1389.441567993164\n",
      "\n",
      "\n",
      "Epoch:  34\n",
      "  Training Loss:  1872.095721435547\n",
      "  Validation Loss:  1299.7936401367188\n",
      "\n",
      "\n",
      "Epoch:  35\n",
      "  Training Loss:  1861.5172337849936\n",
      "  Validation Loss:  1387.5488723754884\n",
      "\n",
      "\n",
      "Epoch:  36\n",
      "  Training Loss:  1875.6765482584635\n",
      "  Validation Loss:  1448.7100593566895\n",
      "Percentage above threshold:  1.0\n",
      "  Moving to threshold:  0\n",
      "\n",
      "\n",
      "Switching to fully connected model!\n",
      "Random Forest MAE:  885.7818000000001\n"
     ]
    }
   ],
   "source": [
    "butler.train_attn_model(train_dl, val_dl)"
   ]
  },
  {
   "cell_type": "code",
   "execution_count": 15,
   "id": "705da9b4",
   "metadata": {},
   "outputs": [
    {
     "name": "stdout",
     "output_type": "stream",
     "text": [
      "MLP MAE:  5141.210155393997\n"
     ]
    },
    {
     "name": "stderr",
     "output_type": "stream",
     "text": [
      "/opt/conda/envs/rapids/lib/python3.7/site-packages/sklearn/neural_network/_multilayer_perceptron.py:585: ConvergenceWarning: Stochastic Optimizer: Maximum iterations (200) reached and the optimization hasn't converged yet.\n",
      "  % self.max_iter, ConvergenceWarning)\n"
     ]
    }
   ],
   "source": [
    "butler.train_fc_model(train_dl, val_dl, outside_estimator = 'mlp')"
   ]
  },
  {
   "cell_type": "code",
   "execution_count": 10,
   "id": "1a84f2c3",
   "metadata": {},
   "outputs": [],
   "source": [
    "def get_y(json_path, estimates):\n",
    "    \n",
    "    \"\"\"\n",
    "    Get a list of the y features corresponding to each image in image_names\n",
    "    \"\"\"\n",
    "    \n",
    "    m = open(json_path,)\n",
    "    mig_data = json.load(m)\n",
    "    m.close()\n",
    "    muni_ids = [i for i in estimates]\n",
    "    print(len(muni_ids), \"municipalities.\")  \n",
    "    return [mig_data[i] for i in muni_ids]"
   ]
  },
  {
   "cell_type": "code",
   "execution_count": 11,
   "id": "d12e446d",
   "metadata": {},
   "outputs": [
    {
     "name": "stdout",
     "output_type": "stream",
     "text": [
      "15 municipalities.\n"
     ]
    }
   ],
   "source": [
    "x = np.array(list(butler.scale_estimates.values()))\n",
    "y = np.array(get_y(\"../../pooling/data/migration_data.json\", butler.scale_estimates.keys()))"
   ]
  },
  {
   "cell_type": "code",
   "execution_count": 37,
   "id": "b60bbe73",
   "metadata": {},
   "outputs": [],
   "source": [
    "from sklearn.ensemble import RandomForestRegressor\n",
    "from sklearn.tree import DecisionTreeRegressor\n",
    "from sklearn.neural_network import MLPRegressor\n",
    "from sklearn.neighbors import KNeighborsRegressor"
   ]
  },
  {
   "cell_type": "code",
   "execution_count": 23,
   "id": "67266d3a",
   "metadata": {},
   "outputs": [],
   "source": [
    "def mae(true, pred):\n",
    "    diff = np.abs(true - pred)\n",
    "    return np.mean(diff)"
   ]
  },
  {
   "cell_type": "code",
   "execution_count": 24,
   "id": "225822b5",
   "metadata": {},
   "outputs": [
    {
     "data": {
      "text/plain": [
       "2712.458666666667"
      ]
     },
     "execution_count": 24,
     "metadata": {},
     "output_type": "execute_result"
    }
   ],
   "source": [
    "rfr = RandomForestRegressor()\n",
    "rfr.fit(x, y)\n",
    "mae(y, rfr.predict(x))"
   ]
  },
  {
   "cell_type": "code",
   "execution_count": 31,
   "id": "9dec206f",
   "metadata": {},
   "outputs": [
    {
     "data": {
      "text/plain": [
       "7.933333333333334"
      ]
     },
     "execution_count": 31,
     "metadata": {},
     "output_type": "execute_result"
    }
   ],
   "source": [
    "dtr = DecisionTreeRegressor(max_depth = 5)\n",
    "dtr.fit(x, y)\n",
    "mae(y, dtr.predict(x))"
   ]
  },
  {
   "cell_type": "code",
   "execution_count": 36,
   "id": "bd1fa0c8",
   "metadata": {},
   "outputs": [
    {
     "name": "stderr",
     "output_type": "stream",
     "text": [
      "/opt/conda/envs/rapids/lib/python3.7/site-packages/sklearn/neural_network/_multilayer_perceptron.py:585: ConvergenceWarning: Stochastic Optimizer: Maximum iterations (200) reached and the optimization hasn't converged yet.\n",
      "  % self.max_iter, ConvergenceWarning)\n"
     ]
    },
    {
     "data": {
      "text/plain": [
       "5096.862278985803"
      ]
     },
     "execution_count": 36,
     "metadata": {},
     "output_type": "execute_result"
    }
   ],
   "source": [
    "mlp = MLPRegressor()\n",
    "mlp.fit(x, y)\n",
    "mae(y, mlp.predict(x))"
   ]
  },
  {
   "cell_type": "code",
   "execution_count": 38,
   "id": "bfa2c595",
   "metadata": {},
   "outputs": [
    {
     "data": {
      "text/plain": [
       "4149.666666666666"
      ]
     },
     "execution_count": 38,
     "metadata": {},
     "output_type": "execute_result"
    }
   ],
   "source": [
    "knn = KNeighborsRegressor()\n",
    "knn.fit(x, y)\n",
    "mae(y, knn.predict(x))"
   ]
  },
  {
   "cell_type": "code",
   "execution_count": null,
   "id": "52fbc55d",
   "metadata": {},
   "outputs": [],
   "source": []
  }
 ],
 "metadata": {
  "kernelspec": {
   "display_name": "Python 3",
   "language": "python",
   "name": "python3"
  },
  "language_info": {
   "codemirror_mode": {
    "name": "ipython",
    "version": 3
   },
   "file_extension": ".py",
   "mimetype": "text/x-python",
   "name": "python",
   "nbconvert_exporter": "python",
   "pygments_lexer": "ipython3",
   "version": "3.7.10"
  }
 },
 "nbformat": 4,
 "nbformat_minor": 5
}
