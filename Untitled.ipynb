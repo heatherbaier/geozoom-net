{
 "cells": [
  {
   "cell_type": "code",
   "execution_count": 3,
   "id": "db1318d4",
   "metadata": {},
   "outputs": [],
   "source": [
    "import os\n",
    "os.environ[\"CUDA_DEVICE_ORDER\"] = \"PCI_BUS_ID\" \n",
    "os.environ[\"CUDA_VISIBLE_DEVICES\"] = \"0,1\"\n",
    "\n",
    "\n",
    "from torchvision.utils import make_grid, save_image\n",
    "import torchvision.models as models\n",
    "from handler import geozoom_handler\n",
    "import torch.nn.functional as F\n",
    "import matplotlib.pyplot as plt\n",
    "from copy import deepcopy\n",
    "import numpy as np\n",
    "import random\n",
    "import torch\n",
    "import json\n",
    "import PIL\n",
    "\n",
    "\n",
    "from sa import *\n",
    "from fc_net import *\n",
    "from helpers import *\n",
    "from utils2 import *"
   ]
  },
  {
   "cell_type": "code",
   "execution_count": 5,
   "id": "21624e76",
   "metadata": {},
   "outputs": [],
   "source": [
    "from datetime import date, timedelta\n",
    "from joblib import Parallel, delayed\n",
    "from functools import partial\n",
    "import geopandas as gpd\n",
    "import multiprocessing\n",
    "import pandas as pd\n",
    "import numpy as np\n",
    "import argparse\n",
    "import calendar\n",
    "import datetime\n",
    "import requests\n",
    "import shapely\n",
    "import pyproj\n",
    "import shutil\n",
    "import os"
   ]
  },
  {
   "cell_type": "code",
   "execution_count": 2,
   "id": "fe179648",
   "metadata": {},
   "outputs": [],
   "source": [
    "def test(x,y):\n",
    "    for i in range(y):\n",
    "        x * y\n",
    "        "
   ]
  },
  {
   "cell_type": "code",
   "execution_count": 7,
   "id": "79062195",
   "metadata": {},
   "outputs": [],
   "source": [
    "num_cores = 32"
   ]
  },
  {
   "cell_type": "code",
   "execution_count": null,
   "id": "ccc7c927",
   "metadata": {},
   "outputs": [],
   "source": [
    "output = Parallel(n_jobs = num_cores)(delayed(test)(x = y, ic=args.ic, shp=shp, month=j) for y in args.year_list for j in args.month_list)\n",
    "    \n",
    "    \n",
    "    "
   ]
  },
  {
   "cell_type": "code",
   "execution_count": null,
   "id": "e462c644",
   "metadata": {},
   "outputs": [],
   "source": [
    "    # Parallelization\n",
    "    num_cores = multiprocessing.cpu_count()\n",
    "    output = Parallel(n_jobs=num_cores)(delayed(main)(year=y, ic=args.ic, shp=shp, month=j) for y in args.year_list for j in args.month_list)"
   ]
  }
 ],
 "metadata": {
  "kernelspec": {
   "display_name": "Python 3",
   "language": "python",
   "name": "python3"
  },
  "language_info": {
   "codemirror_mode": {
    "name": "ipython",
    "version": 3
   },
   "file_extension": ".py",
   "mimetype": "text/x-python",
   "name": "python",
   "nbconvert_exporter": "python",
   "pygments_lexer": "ipython3",
   "version": "3.7.10"
  }
 },
 "nbformat": 4,
 "nbformat_minor": 5
}
